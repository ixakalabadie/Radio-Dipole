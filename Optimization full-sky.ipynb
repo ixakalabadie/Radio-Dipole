{
 "cells": [
  {
   "cell_type": "code",
   "execution_count": null,
   "metadata": {},
   "outputs": [],
   "source": [
    "import healpy as hp\n",
    "import numpy as np\n",
    "from scipy import optimize\n",
    "import pandas as pd\n",
    "import time"
   ]
  },
  {
   "cell_type": "markdown",
   "metadata": {},
   "source": [
    "Read 100 modulated maps in NESST ordering, in this case flux threshold 1 $\\mu$Jy and sample *z>0.5*. Can be changed."
   ]
  },
  {
   "cell_type": "code",
   "execution_count": null,
   "metadata": {},
   "outputs": [],
   "source": [
    "modmaps=[]\n",
    "for i in range(0,100):\n",
    "    modmaps.append(hp.read_map('path/simul1/modmapswo0_5/modmap%s.fits'%i,nest=True))"
   ]
  },
  {
   "cell_type": "markdown",
   "metadata": {},
   "source": [
    "Define functions of estimator and its gradient, estimation of all parameters at the same time. The estimator function returns the value of the estimator with the input parameters; the gradient function returns an array of the derivatives over each component"
   ]
  },
  {
   "cell_type": "code",
   "execution_count": null,
   "metadata": {},
   "outputs": [],
   "source": [
    "def estimator(x,mapa,average):\n",
    "    pixels=[]\n",
    "    for p in range(len(mapa)):\n",
    "        if mapa[p] !=0:\n",
    "            cosp=np.dot(x[1:],hp.pix2vec(64,p,nest=True))\n",
    "            r=(mapa[p]-average*(1+x[0]*cosp))**2/(average*(1+x[0]*cosp))\n",
    "            pixels.append(r)\n",
    "    return np.sum(pixels)"
   ]
  },
  {
   "cell_type": "code",
   "execution_count": null,
   "metadata": {},
   "outputs": [],
   "source": [
    "def grad(x,mapa,average):\n",
    "    av=[]\n",
    "    xv=[]\n",
    "    yv=[]\n",
    "    zv=[]\n",
    "    for p in range(len(mapa)):\n",
    "        if mapa[p] != 0:\n",
    "            vec=hp.pix2vec(64,p,nest=True)\n",
    "            cosp=np.dot(vec,x[1:]) \n",
    "            a=average*cosp-(mapa[p]**2*cosp)/(average*(x[0]*cosp+1)**2)\n",
    "            av.append(a)\n",
    "            h=x[0]*vec[0]*average-x[0]*vec[0]*mapa[p]**2/(average*(x[0]*cosp+1)**2)\n",
    "            xv.append(h)\n",
    "            y=x[0]*vec[1]*average-x[0]*vec[1]*mapa[p]**2/(average*(x[0]*cosp+1)**2)\n",
    "            yv.append(y)\n",
    "            z=x[0]*vec[2]*average-x[0]*vec[2]*mapa[p]**2/(average*(x[0]*cosp+1)**2)\n",
    "            zv.append(z)\n",
    "    return np.array([np.sum(av),np.sum(xv),np.sum(yv),np.sum(zv)])"
   ]
  },
  {
   "cell_type": "markdown",
   "metadata": {},
   "source": [
    "Define initial guesses for the methods to use, they are the amplitude and direction of the CMB dipole."
   ]
  },
  {
   "cell_type": "code",
   "execution_count": null,
   "metadata": {},
   "outputs": [],
   "source": [
    "ing_vec=[4.62e-3,-0.06935272, -0.66218166,  0.7461271]"
   ]
  },
  {
   "cell_type": "markdown",
   "metadata": {},
   "source": [
    "Optimization with Newton's conjugate gradient. Takes the map and the mean of all pixels as arguments"
   ]
  },
  {
   "cell_type": "code",
   "execution_count": null,
   "metadata": {},
   "outputs": [],
   "source": [
    "ncg=[]\n",
    "counts=0\n",
    "totime=0\n",
    "for m in modmaps:\n",
    "    tim=time.time()\n",
    "    print(counts)\n",
    "    mean=np.mean(m)\n",
    "    ncg.append(optimize.minimize(estimator,ing_vec,jac=grad,args=(m,mean),method='Newton-CG'))\n",
    "    counts+=1\n",
    "    tim2=time.time()-tim\n",
    "    print(tim2)\n",
    "    totime+=tim2\n",
    "print(totime)"
   ]
  },
  {
   "cell_type": "markdown",
   "metadata": {},
   "source": [
    "Convert the results to arrays and write in files."
   ]
  },
  {
   "cell_type": "code",
   "execution_count": null,
   "metadata": {},
   "outputs": [],
   "source": [
    "amp_ncg=[]\n",
    "dire_ncg=[]\n",
    "lonlat_ncg=[]\n",
    "for i in ncg:\n",
    "    amp_ncg.append(i.x[0])\n",
    "    dire_ncg.append(i.x[1:])\n",
    "    lonlat_ncg.append(hp.vec2ang(i.x[1:],lonlat=True))\n",
    "    \n",
    "newfile=pd.DataFrame(amp_ncg)\n",
    "newfile.to_csv('path/simul1/wo0_5/amp.dat',sep=' ',index=None,header=None)\n",
    "newfile=pd.DataFrame(dire_ncg)\n",
    "newfile.to_csv('path/simul1/wo0_5/dir_vec.dat',sep=' ',index=None,header=None)\n",
    "newfile=pd.DataFrame(lonlat_ncg)\n",
    "newfile.to_csv('path/simul1/wo0_5/dir_lonlat.dat',sep=' ',index=None,header=None)\n"
   ]
  },
  {
   "cell_type": "markdown",
   "metadata": {},
   "source": [
    "Furthermore, the estimators for other coordinates (pixel and spherical) are included below. The only thing needed to do to use them is to change the name of the estimator and the initial guess when calling the method."
   ]
  },
  {
   "cell_type": "code",
   "execution_count": null,
   "metadata": {},
   "outputs": [],
   "source": [
    "def estim_lonlat(x,mapa,average):\n",
    "    pixels=[]\n",
    "    for p in range(len(mapa)):\n",
    "        cosp=np.dot(hp.ang2vec(x[1],x[2],lonlat=True),hp.pix2vec(64,p,nest=True))\n",
    "        e=(mapa[p]-average*(1+x[0]*cosp))**2/(average*(1+x[0]*cosp))\n",
    "        pixels.append(e)\n",
    "    return np.sum(pixels)"
   ]
  },
  {
   "cell_type": "code",
   "execution_count": null,
   "metadata": {},
   "outputs": [],
   "source": [
    "def grad_lonlat(x,mapa,average):\n",
    "    av=[]\n",
    "    lv=[]\n",
    "    bv=[]\n",
    "    amp,lon,lat=x\n",
    "    for p in range(len(mapa)):\n",
    "        if mapa[p] != 0:\n",
    "            vec=hp.pix2vec(64,p,nest=True)\n",
    "            h,y,z=vec\n",
    "            cosp=np.dot(vec,hp.ang2vec(lon,lat,lonlat=True))\n",
    "            a=average*cosp-(mapa[p]**2*cosp)/(average*(amp*cosp+1)**2)\n",
    "            av.append(a)\n",
    "            l=-((amp*np.cos(lat)*(y*np.cos(lon)-h*np.sin(lon))*(-amp*y*average*np.sin(lon)*np.cos(lat)-amp*h*average*np.cos(lon)*np.cos(lat)*-amp*average*z*np.sin(lat)-average+mapa[p])*(amp*y*average*np.sin(lon)*np.cos(lat)+amp*h*average*np.cos(lon)*np.cos(lat)+amp*average*z*np.sin(lat)+average+mapa[p]))/(average*(amp*y*np.sin(lon)*np.cos(lat)+amp*h*np.cos(lon)*np.cos(lat)+amp*z*np.sin(lat)+1)**2))\n",
    "            lv.append(l)\n",
    "            b=(amp*(np.sin(lat)*(y*np.sin(lon)+h*np.cos(lon))-z*np.cos(lat))*(-amp*average*np.cos(lat)*(y*np.sin(lon)+h*np.cos(lon))-amp*average*z*np.sin(lat)-average+mapa[p])*(amp*average*np.cos(lat)*(y*np.sin(lon)+h*np.cos(lon))+amp*average*z*np.sin(lat)+average+mapa[p]))/(average*(amp*np.cos(lat)*(y*np.sin(lon)+h*np.cos(lon))+amp*z*np.sin(lat)+1)**2)\n",
    "            bv.append(b)\n",
    "    return np.array([np.sum(av),np.sum(lv),np.sum(bv)])"
   ]
  },
  {
   "cell_type": "code",
   "execution_count": null,
   "metadata": {},
   "outputs": [],
   "source": [
    "def estim_pix(x,mapa,average):\n",
    "    pixels=[]\n",
    "    for p in range(len(mapa)):\n",
    "        if mapa[p] !=0:\n",
    "            cosp=np.dot(x[1:],hp.pix2vec(64,p,nest=True))\n",
    "            e=(mapa[p]-average*(1+x[0]*cosp))**2/(average*(1+x[0]*cosp))\n",
    "            pixels.append(e)\n",
    "    return np.sum(pixels)"
   ]
  },
  {
   "cell_type": "markdown",
   "metadata": {},
   "source": [
    "Their respective initial guesses are the following, for the CMB dipole:"
   ]
  },
  {
   "cell_type": "code",
   "execution_count": null,
   "metadata": {},
   "outputs": [],
   "source": [
    "ing_lonlat=[4.62e-3,264.021,48.253]\n",
    "ing_pix=[4.62e-3,hp.ang2pix(32,264.021,48.253,nest=True,lonlat=True)]"
   ]
  },
  {
   "cell_type": "markdown",
   "metadata": {},
   "source": [
    "Finally, to check whether the optimization has been done correctly the success atribute can be seen. The next loop stores the indexes of the maps with an incomplete optimization."
   ]
  },
  {
   "cell_type": "code",
   "execution_count": null,
   "metadata": {},
   "outputs": [],
   "source": [
    "succ=[]\n",
    "for i in range(len(ncg)):\n",
    "    if ncg[i].success==False:\n",
    "        succ.append(i)"
   ]
  }
 ],
 "metadata": {
  "kernelspec": {
   "display_name": "Python 3",
   "language": "python",
   "name": "python3"
  },
  "language_info": {
   "codemirror_mode": {
    "name": "ipython",
    "version": 3
   },
   "file_extension": ".py",
   "mimetype": "text/x-python",
   "name": "python",
   "nbconvert_exporter": "python",
   "pygments_lexer": "ipython3",
   "version": "3.7.4"
  }
 },
 "nbformat": 4,
 "nbformat_minor": 2
}
