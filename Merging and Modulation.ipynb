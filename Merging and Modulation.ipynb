{
 "cells": [
  {
   "cell_type": "code",
   "execution_count": null,
   "metadata": {},
   "outputs": [],
   "source": [
    "import healpy as hp\n",
    "import numpy as np\n",
    "import math"
   ]
  },
  {
   "cell_type": "code",
   "execution_count": null,
   "metadata": {},
   "outputs": [],
   "source": [
    "def fact(x):\n",
    "    return math.factorial(x)"
   ]
  },
  {
   "cell_type": "markdown",
   "metadata": {},
   "source": [
    "Define number of bins and set indexes to read files given by FLASK"
   ]
  },
  {
   "cell_type": "code",
   "execution_count": null,
   "metadata": {},
   "outputs": [],
   "source": [
    "nBins=12\n",
    "zBins=np.arange(1,nBins+1)"
   ]
  },
  {
   "cell_type": "markdown",
   "metadata": {},
   "source": [
    "Here the files are read and the modulation is applied. For the sample *z>0.5* i1 starts in one to skip the first redshift bin. *no Mod* also jumps the first one but it is added after modulation. The *full* sample starts in i1=0 to take all bins. *Structure* is the same as *full* but not applying modulation at all. See commented code below."
   ]
  },
  {
   "cell_type": "code",
   "execution_count": null,
   "metadata": {},
   "outputs": [],
   "source": [
    "poissonmap=[]  \n",
    "all_maps=[]\n",
    "all_modmap=[]\n",
    "beta=hp.ang2vec(264.021,48.253,lonlat=True) #CMB dipole direction\n",
    "\n",
    "for numS in range(0,100):\n",
    "    poisum=np.zeros(hp.nside2npix(64))\n",
    "    modmap=np.zeros(hp.nside2npix(64))\n",
    "    \n",
    "    for i1 in range(1,nBins): #start in 0 for fullz, in 1 for wo0_5\n",
    "        mattmap.append(hp.read_map(\"path/simul1/flaskOutput%s/map-f1z%s.fits\"%(numS,zBins[i1]),nest=True))\n",
    "        poissonmap.append(hp.read_map(\"path/simul1/flaskOutput%s/poisson-map-f1z%s.fits\"%(numS,zBins[i1]),nest=True))\n",
    "        poisum=poisum+poissonmap[numS*11+i1-1] #+12 for fullz, +11 for wo0_5\n",
    "    all_maps.append(poisum)\n",
    "    \n",
    "    for i2 in range(len(all_maps[0])):\n",
    "        n=hp.pix2vec(64,i2,nest=True)\n",
    "        cos=np.dot(beta,n)\n",
    "        modmap[i]=all_maps[numS][i2]*(1+4.62e-3*cos)\n",
    "#    modmap=modmap+hp.read_map(\"path/simul1/flaskOutput%s/poisson-map-f1z1.fits\"%(numS),nest=True)\n",
    "    all_modmap.append(modmap)"
   ]
  },
  {
   "cell_type": "code",
   "execution_count": null,
   "metadata": {},
   "outputs": [],
   "source": [
    "for m in range(len(all_maps)):\n",
    "    hp.write_map('path/simul/modmapswo0_5/modmap%s.fits'%m,all_modmap[m],nest=True)"
   ]
  }
 ],
 "metadata": {
  "kernelspec": {
   "display_name": "Python 3",
   "language": "python",
   "name": "python3"
  },
  "language_info": {
   "codemirror_mode": {
    "name": "ipython",
    "version": 3
   },
   "file_extension": ".py",
   "mimetype": "text/x-python",
   "name": "python",
   "nbconvert_exporter": "python",
   "pygments_lexer": "ipython3",
   "version": "3.7.4"
  }
 },
 "nbformat": 4,
 "nbformat_minor": 2
}
