{
 "cells": [
  {
   "cell_type": "code",
   "execution_count": null,
   "metadata": {},
   "outputs": [],
   "source": [
    "import healpy as hp\n",
    "import numpy as np\n",
    "from scipy import optimize\n",
    "import pandas as pd\n",
    "import time"
   ]
  },
  {
   "cell_type": "markdown",
   "metadata": {},
   "source": [
    "Read 100 modulated maps in NESST ordering, in this case flux threshold 1 $\\mu$Jy and sample *z>0.5*. Can be changed."
   ]
  },
  {
   "cell_type": "code",
   "execution_count": null,
   "metadata": {},
   "outputs": [],
   "source": [
    "modmaps=[]\n",
    "for i in range(0,100):\n",
    "    modmaps.append(hp.read_map('path/simul1/modmapswo0_5/modmap%s.fits'%i,nest=True))\n"
   ]
  },
  {
   "cell_type": "markdown",
   "metadata": {},
   "source": [
    "Read mask map consisting of zeros in the masked part and ones in the observable part. Also degrade the maps to $N_{side}=32$. Finally apply the mask"
   ]
  },
  {
   "cell_type": "code",
   "execution_count": null,
   "metadata": {},
   "outputs": [],
   "source": [
    "mask=hp.read_map('/home/ixaka/TFG/mask64_planck.fits',nest=True)\n",
    "\n",
    "uda=hp.ud_grade(mask,32,order_in='NEST',order_out='NEST')\n",
    "for val in range(len(uda)):\n",
    "        if uda[val]<1:\n",
    "            uda[val]=0\n",
    "\n",
    "mask_mod=[]\n",
    "mask_mod_deg=[]\n",
    "for m in modmaps:\n",
    "    mask_mod.append(m*mask)\n",
    "    mud=hp.ud_grade(m,32,order_in='NEST',order_out='NEST')\n",
    "    mask_mod_deg.append(mud*uda)"
   ]
  },
  {
   "cell_type": "markdown",
   "metadata": {},
   "source": [
    "Define estimator for degraded maps and pixel coordinates. This function is used to estimate both the amplitude and the direction. It returns the value of the estimator with the given input parameters. Can be used with all methods but with the mask it only works well for Nelder-Mead."
   ]
  },
  {
   "cell_type": "code",
   "execution_count": null,
   "metadata": {},
   "outputs": [],
   "source": [
    "def estimPix(x,mapa,average):\n",
    "    pixels=[]\n",
    "    a,dirp=x\n",
    "    vec=hp.pix2vec(32,int(dirp),nest=True)\n",
    "    for p in range(len(mapa)):\n",
    "        if mapa[p] !=0:\n",
    "            cosp=np.dot(vec,hp.pix2vec(32,p,nest=True))\n",
    "            r=(mapa[p]-average*(1+a*cosp))**2/(average*(1+a*cosp))\n",
    "            pixels.append(r)\n",
    "    return np.sum(pixels)"
   ]
  },
  {
   "cell_type": "markdown",
   "metadata": {},
   "source": [
    "Estimator to determine direction in Cartesian coordinates given a fixed amplitude."
   ]
  },
  {
   "cell_type": "code",
   "execution_count": null,
   "metadata": {},
   "outputs": [],
   "source": [
    "def estim_ampvec(x,mapa,amp,average):\n",
    "    pixels=[]\n",
    "    for p in range(len(mapa)):\n",
    "        if mapa[p] !=0:\n",
    "            cosp=np.dot(x,hp.pix2vec(64,p,nest=True))\n",
    "            e=(mapa[p]-average*(1+amp*cosp))**2/(average*(1+amp*cosp))\n",
    "            pixels.append(e)\n",
    "    return np.sum(pixels)"
   ]
  },
  {
   "cell_type": "markdown",
   "metadata": {},
   "source": [
    "Gradient of the estimator above. Returns an array with the derivatives over *x,y,z*. "
   ]
  },
  {
   "cell_type": "code",
   "execution_count": null,
   "metadata": {},
   "outputs": [],
   "source": [
    "def grad_ampvec(x,mapa,amp,average):\n",
    "    xv=[]\n",
    "    yv=[]\n",
    "    zv=[]\n",
    "    for p in range(len(mapa)):\n",
    "        if mapa[p] != 0:\n",
    "            vec=hp.pix2vec(64,p,nest=True)\n",
    "            cosp=np.dot(vec,x)\n",
    "            h=amp*vec[0]*average-amp*vec[0]*mapa[p]**2/(average*(amp*cosp+1)**2)\n",
    "            xv.append(h)\n",
    "            y=amp*vec[1]*average-amp*vec[1]*mapa[p]**2/(average*(amp*cosp+1)**2)\n",
    "            yv.append(y)\n",
    "            z=amp*vec[2]*average-amp*vec[2]*mapa[p]**2/(average*(amp*cosp+1)**2)\n",
    "            zv.append(z)\n",
    "    return np.array([np.sum(xv),np.sum(yv),np.sum(zv)])"
   ]
  },
  {
   "cell_type": "markdown",
   "metadata": {},
   "source": [
    "Estimator to determine the amplitude given a fixed direction vector in Cartesian coordinates."
   ]
  },
  {
   "cell_type": "code",
   "execution_count": null,
   "metadata": {},
   "outputs": [],
   "source": [
    "def estim_dir(x,mapa,dirvec,average):\n",
    "    pixels=[]\n",
    "    for p in range(len(mapa)):\n",
    "        if mapa[p] !=0:\n",
    "            cosp=np.dot(dirvec,hp.pix2vec(64,p,nest=True))\n",
    "            r=(mapa[p]-average*(1+x*cosp))**2/(average*(1+x*cosp))\n",
    "            pixels.append(r)\n",
    "    return np.sum(pixels)"
   ]
  },
  {
   "cell_type": "markdown",
   "metadata": {},
   "source": [
    "Gradient of the estimator above. Returns an array with the derivative over the amplitude"
   ]
  },
  {
   "cell_type": "code",
   "execution_count": null,
   "metadata": {},
   "outputs": [],
   "source": [
    "def grad_dir(x,mapa,dirvec,average):\n",
    "    av=[]\n",
    "    for p in range(len(mapa)):\n",
    "        if mapa[p] != 0:\n",
    "            vec=hp.pix2vec(64,p,nest=True)\n",
    "            cosp=np.dot(vec,dirvec)\n",
    "            a=average*cosp-(mapa[p]**2*cosp)/(average*(x*cosp+1)**2)\n",
    "            av.append(a)\n",
    "    return np.array([np.sum(av)])"
   ]
  },
  {
   "cell_type": "markdown",
   "metadata": {},
   "source": [
    "Define initial guesses for the methods to use, they are the amplitude and direction of the CMB dipole. *ing_deg* has the amplitude and the pixel number, *ing_vec* the direction in Cartesian coordinates and *ing_amp* just the amplitude"
   ]
  },
  {
   "cell_type": "code",
   "execution_count": null,
   "metadata": {},
   "outputs": [],
   "source": [
    "ing_deg=[4.62e-3,hp.ang2pix(32,264.021,48.253,nest=True,lonlat=True)]\n",
    "ing_vec=hp.ang2vec(264.021,48.253,lonlat=True)\n",
    "ing_amp=4.62e-3"
   ]
  },
  {
   "cell_type": "markdown",
   "metadata": {},
   "source": [
    "Optimization with Nelder-Mead. Using *estimPix*. As arguments it has a degradated masked map and the mean value of the pixel for that map. In addition the number of the map and the time needed in that iteration are printed."
   ]
  },
  {
   "cell_type": "code",
   "execution_count": null,
   "metadata": {},
   "outputs": [],
   "source": [
    "nm=[]\n",
    "totime=0\n",
    "for m in range(100):\n",
    "    tim=time.time()\n",
    "    print(m)\n",
    "    nm.append(optimize.minimize(estimPix,ing_deg,args=(mask_mod_deg[m],np.mean(modmaps[m])),method='Nelder-Mead'))\n",
    "    tim2=time.time()-tim\n",
    "    print(tim2)\n",
    "    totime+=tim2\n",
    "print(totime)"
   ]
  },
  {
   "cell_type": "markdown",
   "metadata": {},
   "source": [
    "Create arrays with amplitude and direction and write them into files."
   ]
  },
  {
   "cell_type": "code",
   "execution_count": null,
   "metadata": {},
   "outputs": [],
   "source": [
    "amp_nm=[]\n",
    "dire_nm=[]\n",
    "for i in nm:\n",
    "    amp_nm.append(i.x[0])\n",
    "    dire_nm.append(i.x[1:])\n",
    "\n",
    "newfile=pd.DataFrame(amp_nm)\n",
    "newfile.to_csv('path/simul1/maskwo0_5/amp_deg_mask.dat',sep=' ',index=None,header=None)\n",
    "newfile=pd.DataFrame(np.int16(dire_nm))\n",
    "newfile.to_csv('path/simul1/maskwo0_5/dir_deg_mask.dat',sep=' ',index=None,header=None)\n"
   ]
  },
  {
   "cell_type": "markdown",
   "metadata": {},
   "source": [
    "Estimation of the Cartesian coordinates of direction with L-BFGS-B. In this case, appart of the maps and the average of map, the mean value of the amplitude obtained with Nelder-Mead is given."
   ]
  },
  {
   "cell_type": "code",
   "execution_count": null,
   "metadata": {},
   "outputs": [],
   "source": [
    "lbf_ampFix=[]\n",
    "totime1=0\n",
    "for m in range(100):\n",
    "    tim=time.time()\n",
    "    print(m)\n",
    "    lbf_ampFix.append(optimize.minimize(estim_ampvec,ing_vec,jac=grad_ampvec,args=(mask_mod[m],np.mean(amp_nm),np.mean(modmaps[m])),method='L-BFGS-B'))\n",
    "    tim2=time.time()-tim\n",
    "    print(tim2)\n",
    "    totime1+=tim2\n",
    "print(totime1)"
   ]
  },
  {
   "cell_type": "code",
   "execution_count": null,
   "metadata": {},
   "outputs": [],
   "source": [
    "dire_lbf,l_lbf,b_lbf=[],[],[]\n",
    "for i in lbf_ampFix:\n",
    "    dire_lbf.append(i.x)\n",
    "    la,ba=hp.vec2ang(i.x,lonlat=True)\n",
    "    l_lbf.append(la)\n",
    "    b_lbf.append(ba)\n",
    "    \n",
    "newfile=pd.DataFrame(dire_lbf)\n",
    "newfile.to_csv('path/simul1/maskwo0_5/dir_mask.dat',sep=' ',index=None,header=None)\n",
    "newfile=pd.DataFrame(np.hstack([l_lbf,b_lbf]))\n",
    "newfile.to_csv('path/simul/maskwo0_5/dir_masklonlat.dat',sep=' ',index=None,header=None)\n",
    "    "
   ]
  },
  {
   "cell_type": "markdown",
   "metadata": {},
   "source": [
    "Estimation of the amplitude with Newton's conjugate gradient. Here the fixed direction vector has been obtained with the mean of the longitude and latitude from L-NFGS-B."
   ]
  },
  {
   "cell_type": "code",
   "execution_count": null,
   "metadata": {},
   "outputs": [],
   "source": [
    "ncg_dirFix=[]\n",
    "counts=0\n",
    "totime3=0\n",
    "fixdir=hp.ang2vec(np.mean(l_lbf),np.mean(b_lbf),lonlat=True)\n",
    "for m in range(100):\n",
    "    tim=time.time()\n",
    "    print(m)\n",
    "    ncg_dirFix.append(optimize.minimize(estim_dir,4.62e-3,jac=grad_dir,args=(mask_mod[m],fixdir,np.mean(modmaps[m])),method='Newton-CG'))\n",
    "    tim2=time.time()-tim\n",
    "    print(tim2)\n",
    "    totime3+=tim2\n",
    "print(totime3)\n"
   ]
  },
  {
   "cell_type": "code",
   "execution_count": null,
   "metadata": {},
   "outputs": [],
   "source": [
    "amp_ncg=[]\n",
    "for i in ncg_dirFix:\n",
    "    amp_ncg.append(i.x)\n",
    "    \n",
    "newfile=pd.DataFrame(amp_ncg)\n",
    "newfile.to_csv('path/simul1/maskwo0_5/amp_mask.dat',sep=' ',index=None,header=None)\n"
   ]
  }
 ],
 "metadata": {
  "kernelspec": {
   "display_name": "Python 3",
   "language": "python",
   "name": "python3"
  },
  "language_info": {
   "codemirror_mode": {
    "name": "ipython",
    "version": 3
   },
   "file_extension": ".py",
   "mimetype": "text/x-python",
   "name": "python",
   "nbconvert_exporter": "python",
   "pygments_lexer": "ipython3",
   "version": "3.7.4"
  }
 },
 "nbformat": 4,
 "nbformat_minor": 2
}
