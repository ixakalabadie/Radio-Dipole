{
 "cells": [
  {
   "cell_type": "code",
   "execution_count": null,
   "metadata": {},
   "outputs": [],
   "source": [
    "import matplotlib.pyplot as plt\n",
    "\n",
    "%matplotlib inline"
   ]
  },
  {
   "cell_type": "code",
   "execution_count": null,
   "metadata": {},
   "outputs": [],
   "source": [
    "import healpy as hp\n",
    "import numpy as np\n",
    "from scipy import optimize\n",
    "import pandas as pd"
   ]
  },
  {
   "cell_type": "code",
   "execution_count": null,
   "metadata": {},
   "outputs": [],
   "source": [
    "beta=hp.ang2vec(264.021,48.253,lonlat=True) #direction of CMB dipole"
   ]
  },
  {
   "cell_type": "markdown",
   "metadata": {},
   "source": [
    "The newt cell reads data from the optimization, for all fluxes, and all samples. The first four arrays of each list correspond to the lowest flux, the second four to the second lowest and so on."
   ]
  },
  {
   "cell_type": "code",
   "execution_count": null,
   "metadata": {},
   "outputs": [],
   "source": [
    "full=['full','wo0_5','noMo']                        \n",
    "mask=['maskfullz','maskwo0_5','masknoMo']                  \n",
    "flux=['1','5','10','']\n",
    "#from full-sky simulations\n",
    "amp_f=[]            #amplitudes\n",
    "dire_f=[]       #direction vector\n",
    "dire_f_lb=[]    #direction in galactic coordinates\n",
    "#from masked-sky simulations\n",
    "amp_m=[]\n",
    "dire_m=[]\n",
    "dire_m_lb\n",
    "for f in flux:\n",
    "    for n in full:\n",
    "        amp_f.append(np.array(pd.read_csv('path/simul%s/%s/amp.dat'%(f,n),header=None,sep=' ')))\n",
    "        dire_f.append(np.array(pd.read_csv('path/simul%s/%s/dir_vec.dat'%(f,n),header=None,sep=' ')))\n",
    "        dire_f_lb.append(np.array(pd.read_csv('path/simul%s/%s/dir_lonlat.dat'%(f,n),header=None,sep=' ')))\n",
    "        if n=='noMo':\n",
    "            amp_f.append(np.array(pd.read_csv('path/simul%s/structure/amp_deg_full.dat'%f,header=None,sep=' ')))\n",
    "            pix=np.array(pd.read_csv('path/simul%s/structure/dir_deg_full.dat'%f,header=None,sep=' '))\n",
    "            vec=[]\n",
    "            for p in pix:\n",
    "                vec.append(hp.pix2vec(32,p,nest=True))\n",
    "            dire_f.append(np.array(vec))\n",
    "            lon,lat=hp.pix2ang(32,pix,nest=True,lonlat=True)\n",
    "            dire_f_lb.append(np.array(np.hstack([lon,lat])))\n",
    "    for n in mask:\n",
    "        amp_m.append(np.array(pd.read_csv('path/simul%s/%s/amp12.dat'%(f,n),header=None,sep=' ')))\n",
    "        dire_m.append(np.array(pd.read_csv('path/simul%s/%s/dir22.dat'%(f,n),header=None,sep=' ')))\n",
    "        dire_m_lb.append(np.array(pd.read_csv('path/simul%s/%s/dir22_lonlat.dat'%(f,n),header=None,sep=' ')))                 \n",
    "        if mas=='maskwo0_5noMo':\n",
    "            amp_m.append(np.array(pd.read_csv('path/simul%s/structure/amp_deg_mask.dat'%f,header=None,sep=' ')))\n",
    "            pix=np.array(pd.read_csv('path/simul%s/structure/dir_deg_mask.dat'%f,header=None,sep=' '))\n",
    "            vec=[]\n",
    "            for p in pix:\n",
    "                vec.append(hp.pix2vec(32,p,nest=True))\n",
    "            dire_m.append(np.array(vec))\n",
    "            lon,lat=hp.pix2ang(32,pix,nest=True,lonlat=True)\n",
    "            dire_m_lb.append(np.array(np.hstack([lon,lat])))"
   ]
  },
  {
   "cell_type": "code",
   "execution_count": null,
   "metadata": {},
   "outputs": [],
   "source": [
    "#separate the directional parameters in galactic longitud and latitude\n",
    "l_f,b_f,l_m,b_m=[],[],[],[]\n",
    "for i in range(len(dire_f_lb)):\n",
    "    l_f.append(dire_f_lb[i].T[:][0])\n",
    "    b_f.append(dire_f_lb[i].T[:][1])\n",
    "    l_m.append(dire_m_lb[i].T[:][0])\n",
    "    b_m.append(dire_m_lb[i].T[:][1])"
   ]
  },
  {
   "cell_type": "code",
   "execution_count": null,
   "metadata": {},
   "outputs": [],
   "source": [
    "#normalize direction vectors\n",
    "dirnorm_f,dirnorm_m=[],[]\n",
    "for d in range(len(dire_f)):\n",
    "    vec_f,vec_m=[],[]\n",
    "    for v in dire_f[d]:\n",
    "        vec_f.append(v/np.linalg.norm(v))\n",
    "    dirnorm_f.append(vec_f)\n",
    "    for a in dire_m[d]:\n",
    "        vec_m.append(a/np.linalg.norm(a))\n",
    "        dirnorm_m.append(vec_m)"
   ]
  },
  {
   "cell_type": "code",
   "execution_count": null,
   "metadata": {},
   "outputs": [],
   "source": [
    "#calculate angle between estimated direction and CMB direction\n",
    "ang_f,ang_m=[],[]\n",
    "for m in range(len(dirnorm_f)):\n",
    "    ang=[]\n",
    "    for d in dirnorm_f[m]:\n",
    "        cos=np.dot(beta,d)\n",
    "        ang.append(np.arccos(cos))\n",
    "    ang_f.append(np.array(ang))\n",
    "    ang=[]\n",
    "    for d in dirnorm_m[m]:\n",
    "        cos=np.dot(beta,d)\n",
    "        ang.append(np.arccos(cos))\n",
    "    ang_m.append(np.array(ang))"
   ]
  },
  {
   "cell_type": "markdown",
   "metadata": {},
   "source": [
    "The following cell prints the mean of the amplitude (times 1e3) for each flux threshold and sample.\n",
    "The parameter of which the mean is wanted to be obtained can be changed."
   ]
  },
  {
   "cell_type": "code",
   "execution_count": null,
   "metadata": {},
   "outputs": [],
   "source": [
    "pm=u\"\\u00B1\"    #define plus-minus sign\n",
    "for i in amp_m:\n",
    "    print(str(round(np.mean(i*1000),2))+pm+str(round(np.std(i*1000),2)))"
   ]
  },
  {
   "cell_type": "markdown",
   "metadata": {},
   "source": [
    "Below different models of how the plots have been obtained are presented."
   ]
  },
  {
   "cell_type": "markdown",
   "metadata": {},
   "source": [
    "The following cell creates the amplitude histograms."
   ]
  },
  {
   "cell_type": "code",
   "execution_count": null,
   "metadata": {},
   "outputs": [],
   "source": [
    "masks=['S>1 '+uJy,'S>5 '+uJy,'S>10 '+uJy,'S>22.8 '+uJy]\n",
    "fig, ax=plt.subplots(2,2,figsize=(14,10))\n",
    "fig.subplots_adjust(wspace=0.2,hspace=0.35)\n",
    "c=0\n",
    "for j in range(2):\n",
    "    for i in range(2):\n",
    "        kin=amp_m[0+4*c]\n",
    "        wol=amp_m[1+4*c]\n",
    "        nomo=amp_m[2+4*c]\n",
    "        struc=amp_m[3+4*c]\n",
    "        ax[j][i].set_title(masks[c],fontsize=24)    \n",
    "        ax[j][i].hist(struc,bins=np.arange(0,0.007,0.0003),edgecolor='black',fc=(0,1,0,0.5),lw=0.5)\n",
    "        ax[j][i].hist(nomo,bins=np.arange(0,0.007,0.0003),edgecolor='black',fc=(1,1,0,0.5),lw=0.5)\n",
    "        ax[j][i].hist(kin,bins=np.arange(0,0.007,0.0003),edgecolor='black',fc=(0,0,1,0.5),lw=0.5)\n",
    "        ax[j][i].hist(wol,bins=np.arange(0,0.007,0.0003),edgecolor='black',fc=(1,0,0,0.5),lw=0.5)\n",
    "        ax[j][i].axvline(0.00462,c='black',lw=4)\n",
    "        ax[j][i].tick_params(axis='both', which='major', labelsize=14)\n",
    "        ax[j][i].set_ylabel('counts',fontsize=18)\n",
    "        ax[j][i].set_xlabel('amplitude',fontsize=18)\n",
    "        c+=1\n",
    "fig.savefig('amplitude_hist.pdf',bbox_inches='tight')"
   ]
  },
  {
   "cell_type": "markdown",
   "metadata": {},
   "source": [
    "The next model has been used for direction scatter plots of all samples.\n",
    "In the for loop a transformation is made in the parameters to fit this modules coordinate intervals:\n",
    " $l=[ -\\pi , \\pi ]$ and $b=[ -\\pi/2 , \\pi/2 ]$\n",
    "for the structure part another the same transformation has to be done but it is more complex because of the\n",
    "randomness of the directions."
   ]
  },
  {
   "cell_type": "code",
   "execution_count": null,
   "metadata": {},
   "outputs": [],
   "source": [
    "fig=plt.figure(figsize=(8,6))\n",
    "ax=fig.add_subplot(111, projection=\"mollweide\")\n",
    "la,ba=[],[]\n",
    "for i in range(2):\n",
    "    la.append(np.deg2rad(360-l_m[i]))\n",
    "    ba.append(np.deg2rad(b_m[i]))\n",
    "ax.scatter(l_m[3],b_m[3],c='g',marker='.',label='structure')\n",
    "ax.scatter(la[0],ba[0],c='b',marker='.',label='kinematic')\n",
    "ax.scatter(la[1],ba[1],c='r',marker='.',label='kinematic w/o local structure')\n",
    "ax.scatter(np.deg2rad(360-264.021),np.deg2rad(48.253),c='black',marker='o',label='CMB')\n",
    "ax.grid()\n",
    "ax.set_xlabel(r\"$l$\",fontsize=20)\n",
    "ax.legend()\n",
    "h=ax.set_ylabel(r'$b$',fontsize=20)\n",
    "h.set_rotation(0)\n",
    "ax.set_title('S>1 '+uJy,fontsize=28)\n",
    "ax.set_xticklabels([150,120,90,60,30,0,330,300,270,240,210,180])\n",
    "ax.tick_params(axis='both', which='major', labelsize=14)\n",
    "fig.savefig('mollweide_dirs.pdf',bbox_inches='tight')"
   ]
  },
  {
   "cell_type": "markdown",
   "metadata": {},
   "source": [
    "Longitude, latitude and theta histograms have been obtained following the next model."
   ]
  },
  {
   "cell_type": "code",
   "execution_count": null,
   "metadata": {},
   "outputs": [],
   "source": [
    "colors=[(0,0,1,0.5),(1,0,0,0.5),(1,1,0,0.5),(0,1,0,0.5)]\n",
    "fig, ax=plt.subplots(3,4,figsize=(24,20))\n",
    "ax[0][0].set_title(r'$S\\!>1\\,\\mu$Jy',fontsize=26)\n",
    "ax[0][1].set_title(r'$S\\!>5\\,\\mu$Jy',fontsize=26)\n",
    "ax[0][2].set_title(r'$S\\!>10\\,\\mu$Jy',fontsize=26)\n",
    "ax[0][3].set_title(r'$S\\!>22.8\\,\\mu$Jy',fontsize=26)\n",
    "for i in range(ax.shape[0]):\n",
    "    for j in range(ax.shape[1]):\n",
    "        li=l[i+4*j]\n",
    "        if i!=3:\n",
    "            ax[i][j].hist(li,bins=np.arange(220,300,10),edgecolor='black',fc=cols[i],lw=0.5)\n",
    "            ax[i][j].axvline(np.mean(li),c='brown',lw=3)\n",
    "            ax[i][j].axvline(264.02,c='black',lw=3)\n",
    "        else:\n",
    "            ax[i][j].hist(li,bins=np.arange(0,360,45),edgecolor='black',fc=cols[i],lw=0.5)\n",
    "            ax[i][j].axvline(np.mean(li),c='brown',lw=3,label=str(round(np.mean(li),1)))\n",
    "            ax[i][j].legend(fontsize=15)\n",
    "        ax[i][j].tick_params(axis='both', which='major', labelsize=18)\n",
    "        if j==0:\n",
    "            ax[i][j].set_ylabel('counts',fontsize=22)\n",
    "        if i==3:\n",
    "            ax[i][j].set_xlabel(r'$\\l$ / deg',fontsize=22)\n",
    "fig.savefig('longitude.pdf',bbox_inches='tight')"
   ]
  },
  {
   "cell_type": "code",
   "execution_count": null,
   "metadata": {},
   "outputs": [],
   "source": []
  }
 ],
 "metadata": {
  "kernelspec": {
   "display_name": "Python 3",
   "language": "python",
   "name": "python3"
  },
  "language_info": {
   "codemirror_mode": {
    "name": "ipython",
    "version": 3
   },
   "file_extension": ".py",
   "mimetype": "text/x-python",
   "name": "python",
   "nbconvert_exporter": "python",
   "pygments_lexer": "ipython3",
   "version": "3.7.4"
  }
 },
 "nbformat": 4,
 "nbformat_minor": 2
}
